{
 "cells": [
  {
   "cell_type": "markdown",
   "metadata": {},
   "source": [
    "# Урок 4"
   ]
  },
  {
   "cell_type": "code",
   "execution_count": null,
   "metadata": {},
   "outputs": [],
   "source": [
    "import pandas as pd\n",
    "import numpy as np\n",
    "import re\n",
    "import itertools\n",
    "import matplotlib.pyplot as plt\n",
    "%matplotlib inline\n",
    "from sympy import *\n",
    "x,y,z = symbols('x y z')\n",
    "init_printing(use_unicode=True)\n",
    "from sympy.solvers import solve"
   ]
  },
  {
   "cell_type": "markdown",
   "metadata": {},
   "source": [
    "####  Задача 1 .\n",
    "*****\n",
    "Найти неопределенный интеграл:"
   ]
  },
  {
   "cell_type": "markdown",
   "metadata": {},
   "source": [
    "$ \\int(2x^2-2x-1+\\sin x-\\cos x + \\log x +e^x)dx$"
   ]
  },
  {
   "cell_type": "markdown",
   "metadata": {},
   "source": [
    "$ \\int(2x^2-2x-1+\\sin x-\\cos x + \\log x +e^x)dx = $\n",
    "\n",
    "$ \\int(2x^2)dx - \\int(2x)dx - \\int(1)dx +\\int(\\sin x)dx - \\int(\\cos x)dx + \\int(\\log x)dx + \\int(e^x)dx + C= $\n",
    "\n",
    "$ \\frac{2x^3}{3} -x^2 -x -\\cos x -\\sin x + (x\\log x - x) + e^x +C = $\n",
    "\n",
    "$ \\boxed{\\frac{2x^3}{3} -x^2 -2x -\\cos x -\\sin x + x\\log x + e^x +C}$ ,где С = const\n"
   ]
  },
  {
   "cell_type": "code",
   "execution_count": null,
   "metadata": {},
   "outputs": [],
   "source": [
    "integrate(2*(x**2)-2*x-1+sin(x)-cos(x)+log(x)+ E**x,x)"
   ]
  },
  {
   "cell_type": "code",
   "execution_count": null,
   "metadata": {},
   "outputs": [],
   "source": [
    "# checking\n",
    "diff(integrate(2*(x**2)-2*x-1+sin(x)-cos(x)+log(x)+ E**x,x),x)"
   ]
  },
  {
   "cell_type": "markdown",
   "metadata": {},
   "source": [
    "####  Задача 2 .\n",
    "*****\n",
    "Найти неопределенный интеграл:\n",
    "\n",
    "$ \\int(2x+6xz^2-5x^2y-3\\ln z)dx$"
   ]
  },
  {
   "cell_type": "markdown",
   "metadata": {},
   "source": [
    "$ \\int(2x+6xz^2-5x^2y-3\\ln z)dx = $\n",
    "\n",
    "$ \\int(2x)dx + \\int(6xz^2)dx -\\int(5x^2y)dx  - \\int(3\\ln z)dx +C= $\n",
    "\n",
    "$ x^2 + 3x^2y^2 - \\frac{5x^3y}{3} -3\\ln z + C= $\n",
    "\n",
    "$ \\boxed{x^2(1+ 3y^2 - \\frac{5xy}{3}) -3\\ln z + C}$,где С = const"
   ]
  },
  {
   "cell_type": "code",
   "execution_count": null,
   "metadata": {},
   "outputs": [],
   "source": [
    "integrate(2*x + 6*x*(z**2)-5*(x**2)*y-3*log(z),x)"
   ]
  },
  {
   "cell_type": "code",
   "execution_count": null,
   "metadata": {},
   "outputs": [],
   "source": [
    "# checking \n",
    "diff(integrate(2*x + 6*x*(z**2)-5*(x**2)*y-3*log(z),x),x)"
   ]
  },
  {
   "cell_type": "markdown",
   "metadata": {},
   "source": [
    "####  Задача 3 .\n",
    "*****\n",
    "\n",
    "Вычислить определенный интеграл:\n",
    "$\\int_{0}^{\\pi} (3x^2 \\sin (2x))dx$\n",
    "\n",
    "\n"
   ]
  },
  {
   "cell_type": "markdown",
   "metadata": {},
   "source": [
    "Сначала находим первообразную функцию:\n",
    "\n",
    "$\\int(3x^2 \\sin (2x))dx = -\\frac{3x^2\\cos(2x)}{2} + \\frac{3x\\sin(2x)}{2} + \\frac{3\\cos(2x)}{4}$\n",
    "\n",
    "$\\int_{0}^{\\pi} (3x^2 \\sin (2x))dx = -\\frac{3\\pi^2\\cos(2\\pi)}{2} + \\frac{3\\pi\\sin(2\\pi)}{2} + \\frac{3\\cos(2\\pi)}{4} +\\frac{3\\cdot 0 ^2\\cos(2 \\cdot 0)}{2} - \\frac{3\\cdot0\\cdot\\sin(2\\pi)}{2} - \\frac{3\\cos(2\\cdot0)}{4}=$\n",
    "\n",
    "$-\\frac{3\\pi^2}{2} + 0 + \\frac{3}{2} + 0 - 0 - \\frac{3}{2}= \\boxed{-\\frac{3\\pi^2}{2}}$"
   ]
  },
  {
   "cell_type": "code",
   "execution_count": null,
   "metadata": {},
   "outputs": [],
   "source": [
    "# checking\n",
    "integrate(3*(x**2)*sin(2*x),(x,0,pi))"
   ]
  },
  {
   "cell_type": "code",
   "execution_count": null,
   "metadata": {},
   "outputs": [],
   "source": [
    "integrate(3*(x**2)*sin(2*x),x).subs(x,pi) - integrate(3*(x**2)*sin(2*x),x).subs(x,0)"
   ]
  },
  {
   "cell_type": "markdown",
   "metadata": {},
   "source": [
    "####  Задача 4 .\n",
    "*****\n",
    "Найти неопределенный интеграл:\n",
    "$\\int \\frac{1}{\\sqrt{x+1}} dx$"
   ]
  },
  {
   "cell_type": "markdown",
   "metadata": {},
   "source": [
    "$\\int \\frac{1}{\\sqrt{x+1}} dx =  $\n",
    "\n",
    "$ t = x+1 \\implies dt= (x+1)'dx \\implies dt= dx \\implies dx = dt \\implies \\int \\frac{dt}{\\sqrt{t}}  =\n",
    "\\int t^{-\\frac{1}{2}}dx = \\frac{t^{\\frac{1}{2}}}{\\frac{1}{2}} = 2\\sqrt{t} = \\boxed{2\\sqrt{x+1}+ C}$ "
   ]
  },
  {
   "cell_type": "code",
   "execution_count": null,
   "metadata": {},
   "outputs": [],
   "source": [
    "integrate(1/sqrt(x+1),x)"
   ]
  },
  {
   "cell_type": "code",
   "execution_count": null,
   "metadata": {},
   "outputs": [],
   "source": [
    "# checking\n",
    "diff(integrate(1/sqrt(x+1),x),x)"
   ]
  }
 ],
 "metadata": {
  "kernelspec": {
   "display_name": "Python 3",
   "language": "python",
   "name": "python3"
  },
  "language_info": {
   "codemirror_mode": {
    "name": "ipython",
    "version": 3
   },
   "file_extension": ".py",
   "mimetype": "text/x-python",
   "name": "python",
   "nbconvert_exporter": "python",
   "pygments_lexer": "ipython3",
   "version": "3.7.1"
  }
 },
 "nbformat": 4,
 "nbformat_minor": 2
}
