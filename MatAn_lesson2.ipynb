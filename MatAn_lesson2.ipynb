{
 "cells": [
  {
   "cell_type": "markdown",
   "metadata": {},
   "source": [
    "# Урок 2"
   ]
  },
  {
   "cell_type": "code",
   "execution_count": 74,
   "metadata": {},
   "outputs": [],
   "source": [
    "import pandas as pd\n",
    "import numpy as np\n",
    "import re\n",
    "import itertools\n",
    "import matplotlib.pyplot as plt\n",
    "%matplotlib inline"
   ]
  },
  {
   "cell_type": "markdown",
   "metadata": {},
   "source": [
    "####  Задача 1 .\n",
    "*****\n",
    "Предложить пример функции,  не имеющей предела в нуле и в бесконечностях."
   ]
  },
  {
   "cell_type": "markdown",
   "metadata": {},
   "source": [
    "####  Задача 2 .\n",
    "*****\n",
    "Привести пример функции, не имеющей предела в точке, но определенной в ней."
   ]
  },
  {
   "cell_type": "markdown",
   "metadata": {},
   "source": [
    "####  Задача 3 .\n",
    "*****\n",
    "Исследовать функцию $f(x) = x^3 -x^2 $ по плану\n",
    "\n",
    "1. Область задания и область значений\n",
    "2. Нули функции и их кратность\n",
    "3. Отрезки знакопостоянства\n",
    "4. Интервалы монотонности\n",
    "5. Четность функции\n",
    "6. Ограниченность\n",
    "7. Периодичность\n",
    "\n",
    "\n"
   ]
  },
  {
   "cell_type": "code",
   "execution_count": 75,
   "metadata": {},
   "outputs": [
    {
     "data": {
      "image/png": "[encoded data removed]",
      "text/plain": [
       "<Figure size 432x288 with 1 Axes>"
      ]
     },
     "metadata": {
      "needs_background": "light"
     },
     "output_type": "display_data"
    }
   ],
   "source": [
    "x = np.arange(-10,10.5,0.5)\n",
    "y = x**3-x**2\n",
    "z = -x**3+x**2\n",
    "plt.plot(x,y);\n",
    "plt.plot(x,z);\n",
    "plt.plot(0,0,marker='x', markersize=10, color=\"red\")\n",
    "plt.grid(alpha = 0.5)"
   ]
  },
  {
   "cell_type": "markdown",
   "metadata": {},
   "source": [
    "####  Задача 4 .\n",
    "*****\n",
    "Найти предел:\n"
   ]
  },
  {
   "cell_type": "markdown",
   "metadata": {},
   "source": [
    "$$\\lim_{x\\to 0} \\frac{3x^2 - 2x^2}{4x^2} = \\frac{0}{0}  = \\frac{\\frac{3x^2 - 2x^2}{x^2}}{\\frac{4x^2}{x^2}} = \\frac{3-2}{4}  =  \\frac{1}{4}$$ "
   ]
  },
  {
   "cell_type": "code",
   "execution_count": 76,
   "metadata": {},
   "outputs": [
    {
     "data": {
      "image/png": "[encoded data removed]",
      "text/latex": [
       "$$\\frac{1}{4}$$"
      ],
      "text/plain": [
       "1/4"
      ]
     },
     "execution_count": 76,
     "metadata": {},
     "output_type": "execute_result"
    }
   ],
   "source": [
    "from sympy import *\n",
    "x = symbols('x')\n",
    "init_printing(use_unicode=True)\n",
    "limit( (3*(x**2)-2*(x**2))/(4*x**2), x, 0)"
   ]
  },
  {
   "cell_type": "markdown",
   "metadata": {},
   "source": [
    "$$\\lim_{x\\to 0} \\frac{\\sqrt[2]{x + 1} - 1}{\\sqrt[3]{x + 1} - 1} = \\frac{0}{0}  =1$$ "
   ]
  },
  {
   "cell_type": "code",
   "execution_count": 77,
   "metadata": {},
   "outputs": [
    {
     "data": {
      "image/png": "[encoded data removed]",
      "text/latex": [
       "$$1$$"
      ],
      "text/plain": [
       "1"
      ]
     },
     "execution_count": 77,
     "metadata": {},
     "output_type": "execute_result"
    }
   ],
   "source": [
    "limit((x**0.5-1) / (x**(1/3)-1), x, 0)\n"
   ]
  },
  {
   "cell_type": "markdown",
   "metadata": {},
   "source": [
    "$$\\lim_{x\\to \\infty} \\left( \\frac{x+3}{x}\\right)^{4x+1} = \\left( 1+\\frac{3}{x}\\right)^{4x+1} = \\left( 1+\\frac{1}{\\frac{x}{3}}\\right)^{4x+1}  = \\left(\\left( 1+\\frac{1}{\\frac{x}{3}}\\right)^{\\frac{x}{3}}\\right)^{ \\frac{3}{x} 4x+1 } = e^{\\lim_{x\\to \\infty}\\frac{12x+3}{x}}   = e^{12 + \\frac{3}{x}^{\\to 0} } = e^{12}$$"
   ]
  },
  {
   "cell_type": "code",
   "execution_count": 78,
   "metadata": {},
   "outputs": [
    {
     "data": {
      "image/png": "[encoded data removed]",
      "text/latex": [
       "$$e^{12}$$"
      ],
      "text/plain": [
       " 12\n",
       "ℯ  "
      ]
     },
     "execution_count": 78,
     "metadata": {},
     "output_type": "execute_result"
    }
   ],
   "source": [
    "limit(((x+3) / x)**(4*x+1), x, +oo)"
   ]
  },
  {
   "cell_type": "markdown",
   "metadata": {},
   "source": [
    "####  Задача 5 .\n",
    "*****\n",
    "Найти предел\n",
    "\n",
    "$$\\lim_{x\\to 0} \\frac{sin(2x)}{4x} = \\frac{0}{0} = \\frac{sin(2x)}{4 \\cdot \\frac{1}{2} \\cdot 2x} = \\frac{1}{\\frac{4}{2}} = \\frac{2}{4} = \\frac{1}{2}$$\n"
   ]
  },
  {
   "cell_type": "code",
   "execution_count": 79,
   "metadata": {},
   "outputs": [
    {
     "data": {
      "image/png": "[encoded data removed]",
      "text/latex": [
       "$$\\frac{1}{2}$$"
      ],
      "text/plain": [
       "1/2"
      ]
     },
     "execution_count": 79,
     "metadata": {},
     "output_type": "execute_result"
    }
   ],
   "source": [
    "limit(sin(2*x)/(4*x), x, 0)"
   ]
  },
  {
   "cell_type": "markdown",
   "metadata": {},
   "source": [
    "$$\\lim_{x\\to 0} \\frac{x}{sin(x)} = \\frac{0}{0} = 1$$"
   ]
  },
  {
   "cell_type": "code",
   "execution_count": 80,
   "metadata": {},
   "outputs": [
    {
     "data": {
      "image/png": "[encoded data removed]",
      "text/latex": [
       "$$1$$"
      ],
      "text/plain": [
       "1"
      ]
     },
     "execution_count": 80,
     "metadata": {},
     "output_type": "execute_result"
    }
   ],
   "source": [
    "limit(x/sin(x), x, 0)"
   ]
  },
  {
   "cell_type": "markdown",
   "metadata": {},
   "source": [
    "$$\\lim_{x\\to 0} \\frac{x}{arcsin(x)} = \\frac{0}{0} = 1$$"
   ]
  },
  {
   "cell_type": "code",
   "execution_count": 81,
   "metadata": {},
   "outputs": [
    {
     "data": {
      "image/png": "[encoded data removed]",
      "text/latex": [
       "$$1$$"
      ],
      "text/plain": [
       "1"
      ]
     },
     "execution_count": 81,
     "metadata": {},
     "output_type": "execute_result"
    }
   ],
   "source": [
    "limit(x/asin(x), x, 0)"
   ]
  },
  {
   "cell_type": "markdown",
   "metadata": {},
   "source": [
    "$$\\lim_{x\\to \\infty} \\left( \\frac{4x+3}{4x-3}\\right)^{6x} = \\left( \\frac{4x-3+6}{4x-3}\\right)^{6x} =\\left( 1 + \\frac{6}{4x-3}\\right)^{6x}  = \\left( 1 + \\frac{1}{ \\left(  \\frac{4x-3}{6} \\right)}\\right)^{6x} =  \\left( \\left( 1 + \\frac{1}{ \\left(  \\frac{4x-3}{6} \\right)}\\right)^{ \\frac{4x-3}{6}}\\right)^{6x\\frac{6}{4x-3}} =   e^{\\lim_{x\\to \\infty}\\frac{36x}{4x-3}} = e^{\\frac{\\frac{36x}{4x}}{\\frac{4x}{4x}-\\frac{3}{4x}}}  =e^{\\frac{9}{1-\\frac{3}{4x}^{\\to 0} }} = e^9 $$"
   ]
  },
  {
   "cell_type": "code",
   "execution_count": 82,
   "metadata": {},
   "outputs": [
    {
     "data": {
      "image/png": "[encoded data removed]",
      "text/latex": [
       "$$e^{9}$$"
      ],
      "text/plain": [
       " 9\n",
       "ℯ "
      ]
     },
     "execution_count": 82,
     "metadata": {},
     "output_type": "execute_result"
    }
   ],
   "source": [
    "limit(((4*x+3)/(4*x-3))**(6*x), x, +oo)"
   ]
  }
 ],
 "metadata": {
  "kernelspec": {
   "display_name": "Python 3",
   "language": "python",
   "name": "python3"
  }
 },
 "nbformat": 4,
 "nbformat_minor": 2
}
