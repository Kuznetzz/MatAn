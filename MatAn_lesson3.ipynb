{
 "cells": [
  {
   "cell_type": "markdown",
   "metadata": {},
   "source": [
    "# Урок 3"
   ]
  },
  {
   "cell_type": "code",
   "execution_count": 69,
   "metadata": {},
   "outputs": [],
   "source": [
    "import pandas as pd\n",
    "import numpy as np\n",
    "import re\n",
    "import itertools\n",
    "import matplotlib.pyplot as plt\n",
    "%matplotlib inline\n",
    "from sympy import *\n",
    "x,y = symbols('x y')\n",
    "init_printing(use_unicode=True)\n",
    "from sympy.solvers import solve"
   ]
  },
  {
   "cell_type": "markdown",
   "metadata": {},
   "source": [
    "####  Задача 1 .\n",
    "*****\n",
    "Найти производную выражения:"
   ]
  },
  {
   "cell_type": "markdown",
   "metadata": {},
   "source": [
    "$ (sinx*cosx)' = (sinx)'cosx + (cosx)'sinx = cosx \\cdot cosx -sinx \\cdot sinx =  (cosx)^2 - (sinx)^2 $"
   ]
  },
  {
   "cell_type": "code",
   "execution_count": 70,
   "metadata": {},
   "outputs": [
    {
     "data": {
      "image/png": "[encoded data removed]",
      "text/latex": [
       "$$- \\sin^{2}{\\left (x \\right )} + \\cos^{2}{\\left (x \\right )}$$"
      ],
      "text/plain": [
       "     2         2   \n",
       "- sin (x) + cos (x)"
      ]
     },
     "execution_count": 70,
     "metadata": {},
     "output_type": "execute_result"
    }
   ],
   "source": [
    "diff(sin(x)*cos(x),x)"
   ]
  },
  {
   "cell_type": "markdown",
   "metadata": {},
   "source": [
    "$ (ln(2x+1)^3)' = \\frac{3log(2x+1)^2}{2x+1} \\cdot (ln(2x+1))' = \\frac{3log(2x+1)^2}{2x+1} \\cdot \\frac{1}{2x+1} \\cdot (2x+1)' = \\frac{3log(2x+1)^2}{2x+1} \\cdot \\frac{1}{2x+1} \\cdot 2 = 6\\frac{log(2x+1)^2}{2x+1}$"
   ]
  },
  {
   "cell_type": "code",
   "execution_count": 71,
   "metadata": {},
   "outputs": [
    {
     "data": {
      "image/png": "[encoded data removed]",
      "text/latex": [
       "$$\\frac{6 \\log{\\left (2 x + 1 \\right )}^{2}}{2 x + 1}$$"
      ],
      "text/plain": [
       "     2         \n",
       "6⋅log (2⋅x + 1)\n",
       "───────────────\n",
       "    2⋅x + 1    "
      ]
     },
     "execution_count": 71,
     "metadata": {},
     "output_type": "execute_result"
    }
   ],
   "source": [
    "diff(ln(2*x+1)**3,x)"
   ]
  },
  {
   "cell_type": "markdown",
   "metadata": {},
   "source": [
    "$ \\left(\\sqrt{sin(ln(x^3))^2}\\right)' =\\left((sin(ln(x^3))^2)^{\\frac{1}{2}}\\right)'  $\n",
    "\n",
    "$\\frac{1}{2\\sqrt{sin(log(x^3))^2}} \\cdot (sin(ln(x^3))^2)' = $\n",
    "\n",
    "$ \\frac{1}{2\\sqrt{sin(log(x^3))^2}} \\cdot 2sin(log(x^3)) \\cdot (sin(log(x^3))'= $\n",
    "\n",
    "$ \\frac{1}{2\\sqrt{sin(log(x^3))^2}} \\cdot 2sin(log(x^3)) \\cdot cos(log(x^3)) \\cdot (log(x^3))'= $ \n",
    "\n",
    "$ \\frac{1}{2\\sqrt{sin(log(x^3))^2}} \\cdot 2sin(log(x^3)) \\cdot cos(log(x^3)) \\cdot \\frac{1}{x^3} \\cdot (x^3)' = $\n",
    "\n",
    "$ \\frac{1}{2\\sqrt{sin(log(x^3))^2}} \\cdot 2sin(log(x^3)) \\cdot cos(log(x^3)) \\cdot \\frac{1}{x^3} \\cdot 3x^2 = $\n",
    "\n",
    "$ \\frac{1}{2\\sqrt{sin(log(x^3))^2}} \\cdot 2sin(log(x^3)) \\cdot \\frac{3cos(log(x^3))}{x} = $\n",
    "\n",
    "$ \\frac{1}{2sin(log(x^3))} \\cdot \\frac{6sin(log(x^3))cos(log(x^3))}{x} =  \\frac{3sin(log(x^3))cos(log(x^3))}{xsin(log(x^3))}  $\n",
    "\n"
   ]
  },
  {
   "cell_type": "code",
   "execution_count": 72,
   "metadata": {},
   "outputs": [
    {
     "data": {
      "image/png": "[encoded data removed]",
      "text/latex": [
       "$$\\frac{3 \\sqrt{\\sin^{2}{\\left (\\log{\\left (x^{3} \\right )} \\right )}} \\cos{\\left (\\log{\\left (x^{3} \\right )} \\right )}}{x \\sin{\\left (\\log{\\left (x^{3} \\right )} \\right )}}$$"
      ],
      "text/plain": [
       "     _______________             \n",
       "    ╱    2⎛   ⎛ 3⎞⎞     ⎛   ⎛ 3⎞⎞\n",
       "3⋅╲╱  sin ⎝log⎝x ⎠⎠ ⋅cos⎝log⎝x ⎠⎠\n",
       "─────────────────────────────────\n",
       "               ⎛   ⎛ 3⎞⎞         \n",
       "          x⋅sin⎝log⎝x ⎠⎠         "
      ]
     },
     "execution_count": 72,
     "metadata": {},
     "output_type": "execute_result"
    }
   ],
   "source": [
    "# я не совсем понимаю почему симпай выдает такой результат\n",
    "\n",
    "diff( sqrt (sin(ln(x**3))**2),x)"
   ]
  },
  {
   "cell_type": "code",
   "execution_count": 73,
   "metadata": {},
   "outputs": [
    {
     "data": {
      "image/png": "[encoded data removed]",
      "text/latex": [
       "$$\\frac{3 \\sin{\\left (\\log{\\left (x^{3} \\right )} \\right )} \\cos{\\left (\\log{\\left (x^{3} \\right )} \\right )}}{x \\sqrt{y}}$$"
      ],
      "text/plain": [
       "     ⎛   ⎛ 3⎞⎞    ⎛   ⎛ 3⎞⎞\n",
       "3⋅sin⎝log⎝x ⎠⎠⋅cos⎝log⎝x ⎠⎠\n",
       "───────────────────────────\n",
       "            x⋅√y           "
      ]
     },
     "execution_count": 73,
     "metadata": {},
     "output_type": "execute_result"
    }
   ],
   "source": [
    "diff(sin(log(x**3))**2,x) * diff(sqrt(y),y)"
   ]
  },
  {
   "cell_type": "markdown",
   "metadata": {},
   "source": [
    "$ \\left(\\frac{x^4}{log(x)} \\right)'= \\frac{4x^3log(x)- \\frac{x^4}{x} }{(log(x))^2} = \\frac{4x^3log(x)}{(log(x))^2} - \\frac{x^3}{(log(x))^2}= \\frac{4x^3}{log(x)} - \\frac{x^3}{(log(x))^2}$"
   ]
  },
  {
   "cell_type": "code",
   "execution_count": 74,
   "metadata": {},
   "outputs": [
    {
     "data": {
      "image/png": "[encoded data removed]",
      "text/latex": [
       "$$\\frac{4 x^{3}}{\\log{\\left (x \\right )}} - \\frac{x^{3}}{\\log{\\left (x \\right )}^{2}}$$"
      ],
      "text/plain": [
       "    3        3  \n",
       " 4⋅x        x   \n",
       "────── - ───────\n",
       "log(x)      2   \n",
       "         log (x)"
      ]
     },
     "execution_count": 74,
     "metadata": {},
     "output_type": "execute_result"
    }
   ],
   "source": [
    "diff(x**4/log(x),x) "
   ]
  },
  {
   "cell_type": "markdown",
   "metadata": {},
   "source": [
    "####  Задача 2 .\n",
    "*****\n",
    "$f(x) = cos(x^2+3x), x_0 = \\sqrt{\\pi}$\n",
    "найти выражение производной функции и ее значение в точке."
   ]
  },
  {
   "cell_type": "markdown",
   "metadata": {},
   "source": [
    "$(cos(x^2+3x))'= -sin(x^2+3x) \\cdot (x^2+3x)' = -sin(x^2+3x) \\cdot (2x+3)$"
   ]
  },
  {
   "cell_type": "code",
   "execution_count": 75,
   "metadata": {},
   "outputs": [
    {
     "data": {
      "image/png": "[encoded data removed]",
      "text/latex": [
       "$$- \\left(2 x + 3\\right) \\sin{\\left (x^{2} + 3 x \\right )}$$"
      ],
      "text/plain": [
       "              ⎛ 2      ⎞\n",
       "-(2⋅x + 3)⋅sin⎝x  + 3⋅x⎠"
      ]
     },
     "execution_count": 75,
     "metadata": {},
     "output_type": "execute_result"
    }
   ],
   "source": [
    "diff(cos(x**2+3*x),x)"
   ]
  },
  {
   "cell_type": "code",
   "execution_count": 76,
   "metadata": {},
   "outputs": [
    {
     "data": {
      "image/png": "[encoded data removed]",
      "text/latex": [
       "$$\\left(3 + 2 \\sqrt{\\pi}\\right) \\sin{\\left (3 \\sqrt{\\pi} \\right )}$$"
      ],
      "text/plain": [
       "(3 + 2⋅√π)⋅sin(3⋅√π)"
      ]
     },
     "execution_count": 76,
     "metadata": {},
     "output_type": "execute_result"
    }
   ],
   "source": [
    "# значение в точке кореннь(пи)\n",
    "-sin(sqrt(pi)**2+3*sqrt(pi))*(2*sqrt(pi)+3)"
   ]
  },
  {
   "cell_type": "code",
   "execution_count": 77,
   "metadata": {},
   "outputs": [
    {
     "data": {
      "image/png": "[encoded data removed]",
      "text/latex": [
       "$$\\left(3 + 2 \\sqrt{\\pi}\\right) \\sin{\\left (3 \\sqrt{\\pi} \\right )}$$"
      ],
      "text/plain": [
       "(3 + 2⋅√π)⋅sin(3⋅√π)"
      ]
     },
     "execution_count": 77,
     "metadata": {},
     "output_type": "execute_result"
    }
   ],
   "source": [
    "#checking\n",
    "diff(cos(x**2+3*x),x).subs(x, sqrt(pi))"
   ]
  },
  {
   "cell_type": "code",
   "execution_count": 78,
   "metadata": {},
   "outputs": [
    {
     "data": {
      "image/png": "[encoded data removed]",
      "text/latex": [
       "$$-5.383302410890618$$"
      ],
      "text/plain": [
       "-5.383302410890618"
      ]
     },
     "execution_count": 78,
     "metadata": {},
     "output_type": "execute_result"
    }
   ],
   "source": [
    "(3+2*np.pi**0.5)*(np.sin(3 * np.pi**0.5))"
   ]
  },
  {
   "cell_type": "code",
   "execution_count": 79,
   "metadata": {},
   "outputs": [
    {
     "data": {
      "image/png": "[encoded data removed]",
      "text/latex": [
       "$$-5.383302410890619$$"
      ],
      "text/plain": [
       "-5.383302410890619"
      ]
     },
     "execution_count": 79,
     "metadata": {},
     "output_type": "execute_result"
    }
   ],
   "source": [
    "(-np.sin(np.pi + 3*np.pi**0.5))*(2*np.pi**0.5+3)"
   ]
  },
  {
   "cell_type": "markdown",
   "metadata": {},
   "source": [
    "####  Задача 3 .\n",
    "*****\n",
    "\n",
    "$ f(x) = \\frac{x^3-x^2-x-1}{1+2x+3x^2-4x^3}, x_0 = 0$\n",
    "найти значение производной функции в точке.\n",
    "\n",
    "\n"
   ]
  },
  {
   "cell_type": "code",
   "execution_count": 80,
   "metadata": {},
   "outputs": [
    {
     "data": {
      "image/png": "[encoded data removed]",
      "text/latex": [
       "$$\\frac{3 x^{2} - 2 x - 1}{- 4 x^{3} + 3 x^{2} + 2 x + 1} + \\frac{\\left(12 x^{2} - 6 x - 2\\right) \\left(x^{3} - x^{2} - x - 1\\right)}{\\left(- 4 x^{3} + 3 x^{2} + 2 x + 1\\right)^{2}}$$"
      ],
      "text/plain": [
       "        2                 ⎛    2          ⎞ ⎛ 3    2        ⎞\n",
       "     3⋅x  - 2⋅x - 1       ⎝12⋅x  - 6⋅x - 2⎠⋅⎝x  - x  - x - 1⎠\n",
       "─────────────────────── + ───────────────────────────────────\n",
       "     3      2                                           2    \n",
       "- 4⋅x  + 3⋅x  + 2⋅x + 1        ⎛     3      2          ⎞     \n",
       "                               ⎝- 4⋅x  + 3⋅x  + 2⋅x + 1⎠     "
      ]
     },
     "execution_count": 80,
     "metadata": {},
     "output_type": "execute_result"
    }
   ],
   "source": [
    "equation = (x**3-x**2-x-1)/(1+2*x+3*x**2-4*x**3)\n",
    "x0 = 0\n",
    "derivative = equation.diff(x)\n",
    "derivative"
   ]
  },
  {
   "cell_type": "code",
   "execution_count": 81,
   "metadata": {},
   "outputs": [
    {
     "data": {
      "image/png": "[encoded data removed]",
      "text/latex": [
       "$$1$$"
      ],
      "text/plain": [
       "1"
      ]
     },
     "execution_count": 81,
     "metadata": {},
     "output_type": "execute_result"
    }
   ],
   "source": [
    "derivative.subs(x, x0)"
   ]
  },
  {
   "cell_type": "markdown",
   "metadata": {},
   "source": []
  },
  {
   "cell_type": "markdown",
   "metadata": {},
   "source": [
    "####  Задача 4 .\n",
    "*****\n",
    "*найти угол наклона касательной к графику функции в точке.\n"
   ]
  },
  {
   "cell_type": "markdown",
   "metadata": {},
   "source": [
    "$f(x) = \\sqrt{3x}-log(x), x_0 = 1$"
   ]
  },
  {
   "cell_type": "code",
   "execution_count": 82,
   "metadata": {},
   "outputs": [
    {
     "data": {
      "image/png": "[encoded data removed]",
      "text/plain": [
       "<Figure size 432x288 with 1 Axes>"
      ]
     },
     "metadata": {
      "needs_background": "light"
     },
     "output_type": "display_data"
    }
   ],
   "source": [
    "equation = sqrt(3*x)-ln(x)\n",
    "x0 = 1\n",
    "# find the derivative of y\n",
    "derivative = equation.diff(x)\n",
    "# find y coordinate of x at 1\n",
    "y0 = equation.subs(x, x0)\n",
    "answer = atan(derivative.subs(x, x0))\n",
    "\n",
    "\n",
    "# tangent formula\n",
    "tangent = derivative.subs(x, x0)*(x-x0)+y0\n",
    "\n",
    "xx = np.linspace(0.1, 20, 100)\n",
    "plt.plot(xx, np.transpose(lambdify(x,equation)(xx)),label = r\"Equation: $ \\sqrt{3x}-log(x) $\")\n",
    "plt.plot(xx, np.transpose(lambdify(x,derivative)(xx)),label = r'Derivative: $\\frac{\\sqrt{3}}{2\\sqrt{x}}-\\frac{1}{x} $')\n",
    "plt.plot(xx, np.transpose(lambdify(x,tangent)(xx)),label = r\"Tangent: $\\left(\\frac{\\sqrt{3}}{2}-1\\right)\\cdot(x-1)+ \\sqrt{3}$\")\n",
    "plt.scatter(x0, y0)\n",
    "plt.plot(xx,xx*0+y0,\"--\",c=\"grey\")\n",
    "plt.ylim(-5,5)\n",
    "plt.grid(alpha = 0.5)\n",
    "plt.legend()\n",
    "plt.axis('equal')\n",
    "plt.show()"
   ]
  },
  {
   "cell_type": "code",
   "execution_count": 83,
   "metadata": {},
   "outputs": [
    {
     "data": {
      "image/png": "[encoded data removed]",
      "text/latex": [
       "$$- \\operatorname{atan}{\\left (- \\frac{\\sqrt{3}}{2} + 1 \\right )}$$"
      ],
      "text/plain": [
       "     ⎛  √3    ⎞\n",
       "-atan⎜- ── + 1⎟\n",
       "     ⎝  2     ⎠"
      ]
     },
     "execution_count": 83,
     "metadata": {},
     "output_type": "execute_result"
    }
   ],
   "source": [
    "answer"
   ]
  },
  {
   "cell_type": "markdown",
   "metadata": {},
   "source": [
    "$\\frac{\\sqrt{3}}{2\\sqrt{x}}- \\frac{1}{x}$"
   ]
  },
  {
   "cell_type": "code",
   "execution_count": 84,
   "metadata": {},
   "outputs": [
    {
     "name": "stdout",
     "output_type": "stream",
     "text": [
      "-0.1331815410712361 Radians\n"
     ]
    }
   ],
   "source": [
    "print(np.arctan(np.sqrt(3)/2 - 1),\"Radians\")"
   ]
  },
  {
   "cell_type": "code",
   "execution_count": 85,
   "metadata": {},
   "outputs": [
    {
     "name": "stdout",
     "output_type": "stream",
     "text": [
      "-7.6307402124300605 Degrees\n"
     ]
    }
   ],
   "source": [
    "print(np.degrees(np.arctan(np.sqrt(3)/2 - 1)),\"Degrees\")"
   ]
  },
  {
   "cell_type": "markdown",
   "metadata": {},
   "source": [
    "####  Задача 5 .\n",
    "*****\n",
    "исследовать ряд на сходимость, используя признак д’Аламбера\n",
    "\n",
    "$$\\sum_{n=1}^{\\infty}\\frac{n^n}{(n!)^2} $$\n",
    "\n",
    "\n"
   ]
  },
  {
   "cell_type": "markdown",
   "metadata": {},
   "source": [
    "$a_n = \\frac{n^n}{(n!)^2}$\n",
    "\n",
    "$a_{n+1} = \\frac{(n+1)^{n+1}}{((n+1)!)^2}$\n",
    "\n",
    "$\\lim_{n\\to \\infty}\\frac{a_{n+1}}{a_n} = 0; 0 < 1; $ ряд сходится"
   ]
  },
  {
   "cell_type": "code",
   "execution_count": 86,
   "metadata": {},
   "outputs": [
    {
     "data": {
      "image/png": "[encoded data removed]",
      "text/latex": [
       "$$0$$"
      ],
      "text/plain": [
       "0"
      ]
     },
     "execution_count": 86,
     "metadata": {},
     "output_type": "execute_result"
    }
   ],
   "source": [
    "limit((x+1)**(x+1)/(factorial(x+1)**2)/ x**x/(factorial(x)**2), x, oo)"
   ]
  },
  {
   "cell_type": "markdown",
   "metadata": {},
   "source": [
    "####  Задача 6.\n",
    "*****\n",
    "исследовать ряд на сходимость, используя радикальный признак Коши\n",
    "\n",
    "$$\\sum_{n=1}^{\\infty}\\frac{n}{2^n} $$"
   ]
  },
  {
   "cell_type": "markdown",
   "metadata": {},
   "source": [
    "$\\lim_{n\\to \\infty} \\sqrt [n]{\\frac{n}{2^n}} = \\frac{1}{2}; \\frac{1}{2} < 1; $ ряд сходится"
   ]
  },
  {
   "cell_type": "code",
   "execution_count": 87,
   "metadata": {},
   "outputs": [
    {
     "data": {
      "image/png": "[encoded data removed]",
      "text/latex": [
       "$$\\frac{1}{2}$$"
      ],
      "text/plain": [
       "1/2"
      ]
     },
     "execution_count": 87,
     "metadata": {},
     "output_type": "execute_result"
    }
   ],
   "source": [
    "limit((x/(2**x))**(1/x), x, oo)"
   ]
  },
  {
   "cell_type": "markdown",
   "metadata": {},
   "source": [
    "####  Задача 7.\n",
    "*****\n",
    "исследовать ряд на сходимость, используя признак Лейбница\n",
    "\n",
    "$$\\sum_{n=1}^{\\infty}\\frac{-1^n}{n+log(n)} $$"
   ]
  },
  {
   "cell_type": "markdown",
   "metadata": {},
   "source": [
    "$\\lim_{n\\to \\infty} \\frac{1}{n+log(n)} = 0; 0 < 1; $ ряд сходится"
   ]
  },
  {
   "cell_type": "code",
   "execution_count": 88,
   "metadata": {},
   "outputs": [
    {
     "data": {
      "image/png": "[encoded data removed]",
      "text/latex": [
       "$$0$$"
      ],
      "text/plain": [
       "0"
      ]
     },
     "execution_count": 88,
     "metadata": {},
     "output_type": "execute_result"
    }
   ],
   "source": [
    "limit((1**x)/(x+log(x)), x, oo)"
   ]
  },
  {
   "cell_type": "code",
   "execution_count": 89,
   "metadata": {},
   "outputs": [
    {
     "data": {
      "text/plain": [
       "array([1.        , 0.37131279, 0.24398502, 0.1856564 , 0.1512988 ,\n",
       "       0.12834072, 0.11178292, 0.09921185, 0.08930785, 0.08128373,\n",
       "       0.07463859, 0.06903738, 0.06424692, 0.06009956, 0.05647149,\n",
       "       0.05326916, 0.05042047, 0.04786894, 0.04556963])"
      ]
     },
     "execution_count": 89,
     "metadata": {},
     "output_type": "execute_result"
    }
   ],
   "source": [
    "np.array([(1)/(n+np.log(n))  for n in np.arange(1,20) ])"
   ]
  },
  {
   "cell_type": "markdown",
   "metadata": {},
   "source": [
    "####  Задача 8.\n",
    "*****\n",
    "исследовать ряд на сходимость, используя признак Раабе\n",
    "\n",
    "$$\\sum_{n=1}^{\\infty}\\frac{3^n}{2^n} $$"
   ]
  },
  {
   "cell_type": "markdown",
   "metadata": {},
   "source": [
    "$a_n = \\frac{3^n}{2^n}$\n",
    "\n",
    "$a_{n+1} = \\frac{3^{n+1}}{2^{n+1}}$\n",
    "\n",
    "$\\lim_{n\\to \\infty}  \\left(n \\cdot \\left( \\frac{\\frac{3^n}{2^n}}{\\frac{3^{n+1}}{2^{n+1}}}\\right)\\right) = \\infty; \\infty > 1; $ ряд сходится"
   ]
  },
  {
   "cell_type": "code",
   "execution_count": 90,
   "metadata": {},
   "outputs": [
    {
     "data": {
      "image/png": "[encoded data removed]",
      "text/latex": [
       "$$\\infty$$"
      ],
      "text/plain": [
       "∞"
      ]
     },
     "execution_count": 90,
     "metadata": {},
     "output_type": "execute_result"
    }
   ],
   "source": [
    "limit(x*(((3**x)/(2**x))/((3**(x+1))/(2**(x+1)))), x, oo)"
   ]
  }
 ],
 "metadata": {
  "kernelspec": {
   "display_name": "Python 3",
   "language": "python",
   "name": "python3"
  },
  "language_info": {
   "codemirror_mode": {
    "name": "ipython",
    "version": 3
   },
   "file_extension": ".py",
   "mimetype": "text/x-python",
   "name": "python",
   "nbconvert_exporter": "python",
   "pygments_lexer": "ipython3",
   "version": "3.7.1"
  }
 },
 "nbformat": 4,
 "nbformat_minor": 2
}
